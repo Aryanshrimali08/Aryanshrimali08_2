{
 "cells": [
  {
   "cell_type": "code",
   "execution_count": null,
   "id": "e4102f0e",
   "metadata": {},
   "outputs": [],
   "source": [
    "---\n",
    "toc: true\n",
    "comments: false\n",
    "layout: post\n",
    "categories: [CSP Big Idea 3]\n",
    "title: 3.2 Data Abstractions JS Hack\n",
    "author: Jaynee Chauhan, Michelle Ji, Lucas Masterson\n",
    "description: Hack(s) for intro to data abstractions in JS.\n",
    "type: ccc\n",
    "permalink: /csp/big-idea-3/data-abstractions/p4/hacks-js\n",
    "---"
   ]
  },
  {
   "cell_type": "markdown",
   "id": "690b4172",
   "metadata": {},
   "source": [
    "## JS Lab: Library\n",
    "\n",
    "In this lab, similarly to the Python lab, you'll be working on a simple \"database\" for a library to understand CRUD operations in relation to representing redundant, similar data under one structure -- an abstraction.\n",
    "\n",
    "For JavaScript, you'll have to open the web console from Developer Tools (`ctrl + shift + p` -> `Developer: Toggle developer tools`)."
   ]
  },
  {
   "cell_type": "code",
   "execution_count": 3,
   "id": "d7228dda",
   "metadata": {
    "vscode": {
     "languageId": "javascript"
    }
   },
   "outputs": [
    {
     "data": {
      "application/javascript": "let library = [\n    { title: \"1984\", author: \"George Orwell\", checkedOut: false },\n    { title: \"To Kill a Mockingbird\", author: \"Harper Lee\", checkedOut: true },\n    { title: \"The Great Gatsby\", author: \"F. Scott Fitzgerald\", checkedOut: false }\n];\n\n// Display all books in the library\nfunction displayLibrary(lib) {\n    console.log(\"Library:\");\n    lib.forEach(book => {\n        console.log(`Title: ${book.title}, Author: ${book.author}, Checked Out: ${book.checkedOut}`);\n    });\n}\n\n// Add a new book to the library\nfunction addBook(lib, title, author, checkedOut) {\n    lib.push({ title, author, checkedOut });\n    console.log(`Added \"${title}\" by ${author} to the library.`);\n}\n\n// Find a book by its title\nfunction findBook(lib, searchTitle) {\n    let book = lib.find(b => b.title === searchTitle);\n    if (book) {\n        console.log(`Found book: Title: ${book.title}, Author: ${book.author}, Checked Out: ${book.checkedOut}`);\n    } else {\n        console.log(`Book \"${searchTitle}\" not found.`);\n    }\n}\n\n// Update the checkedOut status of a book\nfunction updateBook(lib, searchTitle) {\n    let book = lib.find(b => b.title === searchTitle);\n    if (book) {\n        book.checkedOut = !book.checkedOut;\n        console.log(`Updated \"${book.title}\" checkedOut status to ${book.checkedOut}.`);\n    } else {\n        console.log(`Book \"${searchTitle}\" not found.`);\n    }\n}\n\n// Delete a book from the library\nfunction deleteBook(lib, searchTitle) {\n    let index = lib.findIndex(b => b.title === searchTitle);\n    if (index !== -1) {\n        let removed = lib.splice(index, 1);\n        console.log(`Deleted \"${removed[0].title}\" from the library.`);\n    } else {\n        console.log(`Book \"${searchTitle}\" not found.`);\n    }\n}\n\n// Example usage\ndisplayLibrary(library);\naddBook(library, \"Brave New World\", \"Aldous Huxley\", false);\nfindBook(library, \"1984\");\nupdateBook(library, \"To Kill a Mockingbird\");\ndeleteBook(library, \"The Great Gatsby\");\ndisplayLibrary(library);\n",
      "text/plain": [
       "<IPython.core.display.Javascript object>"
      ]
     },
     "metadata": {},
     "output_type": "display_data"
    }
   ],
   "source": [
    "%%js\n",
    "let library = [\n",
    "    { title: \"1984\", author: \"George Orwell\", checkedOut: false },\n",
    "    { title: \"To Kill a Mockingbird\", author: \"Harper Lee\", checkedOut: true },\n",
    "    { title: \"The Great Gatsby\", author: \"F. Scott Fitzgerald\", checkedOut: false }\n",
    "];\n",
    "\n",
    "// Display all books in the library\n",
    "function displayLibrary(lib) {\n",
    "    console.log(\"Library:\");\n",
    "    lib.forEach(book => {\n",
    "        console.log(`Title: ${book.title}, Author: ${book.author}, Checked Out: ${book.checkedOut}`);\n",
    "    });\n",
    "}\n",
    "\n",
    "// Add a new book to the library\n",
    "function addBook(lib, title, author, checkedOut) {\n",
    "    lib.push({ title, author, checkedOut });\n",
    "    console.log(`Added \"${title}\" by ${author} to the library.`);\n",
    "}\n",
    "\n",
    "// Find a book by its title\n",
    "function findBook(lib, searchTitle) {\n",
    "    let book = lib.find(b => b.title === searchTitle);\n",
    "    if (book) {\n",
    "        console.log(`Found book: Title: ${book.title}, Author: ${book.author}, Checked Out: ${book.checkedOut}`);\n",
    "    } else {\n",
    "        console.log(`Book \"${searchTitle}\" not found.`);\n",
    "    }\n",
    "}\n",
    "\n",
    "// Update the checkedOut status of a book\n",
    "function updateBook(lib, searchTitle) {\n",
    "    let book = lib.find(b => b.title === searchTitle);\n",
    "    if (book) {\n",
    "        book.checkedOut = !book.checkedOut;\n",
    "        console.log(`Updated \"${book.title}\" checkedOut status to ${book.checkedOut}.`);\n",
    "    } else {\n",
    "        console.log(`Book \"${searchTitle}\" not found.`);\n",
    "    }\n",
    "}\n",
    "\n",
    "// Delete a book from the library\n",
    "function deleteBook(lib, searchTitle) {\n",
    "    let index = lib.findIndex(b => b.title === searchTitle);\n",
    "    if (index !== -1) {\n",
    "        let removed = lib.splice(index, 1);\n",
    "        console.log(`Deleted \"${removed[0].title}\" from the library.`);\n",
    "    } else {\n",
    "        console.log(`Book \"${searchTitle}\" not found.`);\n",
    "    }\n",
    "}\n",
    "\n",
    "// Example usage\n",
    "displayLibrary(library);\n",
    "addBook(library, \"Brave New World\", \"Aldous Huxley\", false);\n",
    "findBook(library, \"1984\");\n",
    "updateBook(library, \"To Kill a Mockingbird\");\n",
    "deleteBook(library, \"The Great Gatsby\");\n",
    "displayLibrary(library);\n"
   ]
  }
 ],
 "metadata": {
  "kernelspec": {
   "display_name": "Python 3",
   "language": "python",
   "name": "python3"
  },
  "language_info": {
   "codemirror_mode": {
    "name": "ipython",
    "version": 3
   },
   "file_extension": ".py",
   "mimetype": "text/x-python",
   "name": "python",
   "nbconvert_exporter": "python",
   "pygments_lexer": "ipython3",
   "version": "3.12.3"
  }
 },
 "nbformat": 4,
 "nbformat_minor": 5
}
