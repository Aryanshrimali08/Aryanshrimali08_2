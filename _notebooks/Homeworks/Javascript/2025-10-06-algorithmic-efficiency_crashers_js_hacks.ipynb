{
 "cells": [
  {
   "cell_type": "raw",
   "id": "4e3e77eb",
   "metadata": {
    "vscode": {
     "languageId": "raw"
    }
   },
   "source": [
    "---\n",
    "layout: post\n",
    "title: \"Crashers - 3.17 Algorithmic Efficiency Javascript Hacks\"\n",
    "categories: [Javascript]\n",
    "tags: [python, javascript, algorithms, lesson, beginner]\n",
    "description: Learn about algorithms and how they can be more or less efficient\n",
    "permalink: /javascript/algorithmic-efficiency/crashers-hw\n",
    "---"
   ]
  },
  {
   "cell_type": "markdown",
   "id": "825f983c",
   "metadata": {},
   "source": [
    "## Algorithmic Efficiency Hacks: Javascript\n",
    "\n",
    "Let's test your knowledge on algorithmic efficiency!\n",
    "\n",
    "### Hack 1: How Much Time?\n",
    "\n",
    "#### Objective: write the time complexity of the algorithm below using Big-O notation.\n",
    "(don't worry about special cases such as n = 1 or n = 0)."
   ]
  },
  {
   "cell_type": "code",
   "execution_count": 1,
   "id": "1fc4bcce",
   "metadata": {
    "vscode": {
     "languageId": "javascript"
    }
   },
   "outputs": [
    {
     "data": {
      "application/javascript": "for (let i = 0; i < n * 2; i++) {\n    console.log(\"O(n)\");\n}\n",
      "text/plain": [
       "<IPython.core.display.Javascript object>"
      ]
     },
     "metadata": {},
     "output_type": "display_data"
    }
   ],
   "source": [
    "%%js\n",
    "for (let i = 0; i < n * 2; i++) {\n",
    "    console.log(\"O(n)\");\n",
    "}\n"
   ]
  },
  {
   "cell_type": "markdown",
   "id": "4e562838",
   "metadata": {},
   "source": [
    "### Hack 2: Your Turn!\n",
    "\n",
    "#### Objective: <strong>write</strong> an algorithm with O(n^2) time complexity."
   ]
  },
  {
   "cell_type": "code",
   "execution_count": 2,
   "id": "f9394969",
   "metadata": {
    "vscode": {
     "languageId": "javascript"
    }
   },
   "outputs": [
    {
     "data": {
      "application/javascript": "const n = 10; // change this if you want.\n\n// O(n^2) example: nested loops\nfor (let i = 0; i < n; i++) {\n    for (let j = 0; j < n; j++) {\n        console.log(i, j)\n",
      "text/plain": [
       "<IPython.core.display.Javascript object>"
      ]
     },
     "metadata": {},
     "output_type": "display_data"
    }
   ],
   "source": [
    "%%js\n",
    "const n = 10; // change this if you want.\n",
    "\n",
    "// O(n^2) example: nested loops\n",
    "for (let i = 0; i < n; i++) {\n",
    "    for (let j = 0; j < n; j++) {\n",
    "        console.log(i, j)\n"
   ]
  },
  {
   "cell_type": "markdown",
   "id": "26d353f3",
   "metadata": {},
   "source": [
    "### Hack 3: Gotta Go Fast!\n",
    "\n",
    "#### Objective: Optimize this algorithm so that it has a lower time complexity <strong>without modifying the outer loop</strong>"
   ]
  },
  {
   "cell_type": "code",
   "execution_count": 3,
   "id": "83acbe82",
   "metadata": {
    "vscode": {
     "languageId": "javascript"
    }
   },
   "outputs": [
    {
     "data": {
      "application/javascript": "const n = 10; // change this\nlet count = 0;\n\nfor (let i = 0; i < n; i++) { // Keep outer loop the same\n    count += i; // replaces inner loop\n}\n\nconsole.log(count); // Same output, lower time complexity\n",
      "text/plain": [
       "<IPython.core.display.Javascript object>"
      ]
     },
     "metadata": {},
     "output_type": "display_data"
    }
   ],
   "source": [
    "%%js\n",
    "const n = 10; // change this\n",
    "let count = 0;\n",
    "\n",
    "for (let i = 0; i < n; i++) { // Keep outer loop the same\n",
    "    count += i; // replaces inner loop\n",
    "}\n",
    "\n",
    "console.log(count); // Same output, lower time complexity\n"
   ]
  },
  {
   "cell_type": "markdown",
   "id": "e6e45a7b",
   "metadata": {},
   "source": [
    "### Hack 4: Extra Challenge \n",
    "\n",
    "#### Objective: Write an algorithm that does <strong>NOT</strong> have a time complexity of O(1), O(n), or O(n^x) and identify the time complexity\n",
    "##### (I will not accept O(n^3) or some other power, it needs to be more complex.)"
   ]
  },
  {
   "cell_type": "code",
   "execution_count": 4,
   "id": "87c33c6e",
   "metadata": {},
   "outputs": [
    {
     "ename": "ValueError",
     "evalue": "invalid literal for int() with base 10: ''",
     "output_type": "error",
     "traceback": [
      "\u001b[0;31m---------------------------------------------------------------------------\u001b[0m",
      "\u001b[0;31mValueError\u001b[0m                                Traceback (most recent call last)",
      "Cell \u001b[0;32mIn[4], line 1\u001b[0m\n\u001b[0;32m----> 1\u001b[0m n \u001b[38;5;241m=\u001b[39m \u001b[38;5;28;43mint\u001b[39;49m\u001b[43m(\u001b[49m\u001b[38;5;28;43minput\u001b[39;49m\u001b[43m(\u001b[49m\u001b[43m)\u001b[49m\u001b[43m)\u001b[49m\n\u001b[1;32m      3\u001b[0m \u001b[38;5;66;03m#TODO: Write an algorithm that has a more complicated time complexity than O(n^x).\u001b[39;00m\n",
      "\u001b[0;31mValueError\u001b[0m: invalid literal for int() with base 10: ''"
     ]
    }
   ],
   "source": [
    "n = int(input())\n",
    "\n",
    "#TODO: Write an algorithm that has a more complicated time complexity than O(n^x)."
   ]
  }
 ],
 "metadata": {
  "kernelspec": {
   "display_name": "Python 3",
   "language": "python",
   "name": "python3"
  },
  "language_info": {
   "codemirror_mode": {
    "name": "ipython",
    "version": 3
   },
   "file_extension": ".py",
   "mimetype": "text/x-python",
   "name": "python",
   "nbconvert_exporter": "python",
   "pygments_lexer": "ipython3",
   "version": "3.12.3"
  }
 },
 "nbformat": 4,
 "nbformat_minor": 5
}
