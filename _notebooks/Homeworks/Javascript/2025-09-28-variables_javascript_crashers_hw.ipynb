{
 "cells": [
  {
   "cell_type": "raw",
   "id": "f7d70aa2",
   "metadata": {
    "vscode": {
     "languageId": "raw"
    }
   },
   "source": [
    "---\n",
    "layout: base\n",
    "title: \"3.1 Variables & Assignments hacks\"\n",
    "categories: [Programming Fundamentals, Tutorial]\n",
    "tags: [python, javascript, variables, assignment, beginner]\n",
    "description: Apply your understanding of Variables & Assignments with these hacks\n",
    "author: Aditya Srivastava, Laya Balaji\n",
    "permalink: /javascript/variables/crashers-hw\n",
    "---"
   ]
  },
  {
   "cell_type": "markdown",
   "id": "ce56910b",
   "metadata": {},
   "source": [
    "# 🐷 Peppa Maze Variables & Assignments Hacks\n",
    "Welcome to the Peppa Maze hacks! These challenges will test your understanding of variables, assignments, and logic in Javascript. Read each task, then write or modify code to solve it."
   ]
  },
  {
   "cell_type": "markdown",
   "id": "7dee3bb5",
   "metadata": {},
   "source": [
    "## Hack 1: JavaScript - Variable Assignment, Naming, and Operators\n",
    "Create variables for Peppa's name, score, and level using good JavaScript naming conventions. Assign initial values, then use operators to update score (add 10) and level (multiply by 2). Print all results."
   ]
  },
  {
   "cell_type": "code",
   "execution_count": 16,
   "id": "e4bee113",
   "metadata": {},
   "outputs": [
    {
     "ename": "SyntaxError",
     "evalue": "unterminated string literal (detected at line 2) (1598997648.py, line 2)",
     "output_type": "error",
     "traceback": [
      "\u001b[0;36m  Cell \u001b[0;32mIn[16], line 2\u001b[0;36m\u001b[0m\n\u001b[0;31m    // Create variables for Peppa's name, score, and level\u001b[0m\n\u001b[0m                                 ^\u001b[0m\n\u001b[0;31mSyntaxError\u001b[0m\u001b[0;31m:\u001b[0m unterminated string literal (detected at line 2)\n"
     ]
    }
   ],
   "source": [
    "// Write your code here\n",
    "// Create variables for Peppa's name, score, and level\n",
    "// Use operators to update score and level \n",
    "\n",
    "// Create variables\n",
    "let playerName = \"Peppa\";\n",
    "let score = 50;   // initial score\n",
    "let level = 1;    // initial level\n",
    "\n",
    "score = score + 5;   // add 5 to score\n",
    "level = level * 2;    // double the level\n",
    "\n",
    "// Print results\n",
    "console.log(\"Player Name:\", playerName);\n",
    "console.log(\"Updated Score:\", score);\n",
    "console.log(\"Updated Level:\", level);\n"
   ]
  },
  {
   "cell_type": "markdown",
   "id": "3f8a5cbe",
   "metadata": {},
   "source": [
    "## Hack 2: JavaScript - Variable Declaration, Assignment, and Operators\n",
    "Declare variables for Peppa and George's scores using good JavaScript naming conventions. Assign initial values, then use operators to update both scores (e.g., Peppa gets 15 points, George loses 5 points). Print both scores."
   ]
  },
  {
   "cell_type": "code",
   "execution_count": 17,
   "id": "c4c80df3",
   "metadata": {
    "vscode": {
     "languageId": "javascript"
    }
   },
   "outputs": [
    {
     "data": {
      "application/javascript": "// Write your code here\n// Declare variables for Peppa and George's scores\n// Use operators to update both scores\n\nlet playerPeppa= \"Peppa\";\nlet playerGeorge= \"George\";\n\nlet Peppascore= 100;\nlet Georgescore= 80; \n\nPeppascore= Peppascore * 20;\nGeorgescore= Georgescore / 20;\n\nconsole.log(playerPeppa +\"score is \", Peppascore)\nconsole.log(playerGeorge + \"score is \", Georgescore)\n",
      "text/plain": [
       "<IPython.core.display.Javascript object>"
      ]
     },
     "metadata": {},
     "output_type": "display_data"
    }
   ],
   "source": [
    "%%js\n",
    "// Write your code here\n",
    "// Declare variables for Peppa and George's scores\n",
    "// Use operators to update both scores\n",
    "\n",
    "let playerPeppa= \"Peppa\";\n",
    "let playerGeorge= \"George\";\n",
    "\n",
    "let Peppascore= 100;\n",
    "let Georgescore= 80; \n",
    "\n",
    "Peppascore= Peppascore * 20;\n",
    "Georgescore= Georgescore / 20;\n",
    "\n",
    "console.log(playerPeppa +\"score is \", Peppascore)\n",
    "console.log(playerGeorge + \"score is \", Georgescore)"
   ]
  },
  {
   "cell_type": "markdown",
   "id": "30580c24",
   "metadata": {},
   "source": [
    "## Hack 3: JavaScript - Multiple Assignment and Math Operators\n",
    "Peppa and George both start at level 1. Use a single line to assign both their levels to 5. Then, calculate a combined score by multiplying their levels together and multiplying by 10. Print all results."
   ]
  },
  {
   "cell_type": "code",
   "execution_count": null,
   "id": "67774ff3",
   "metadata": {
    "vscode": {
     "languageId": "javascript"
    }
   },
   "outputs": [],
   "source": [
    "%js\n",
    "// Write your code here\n",
    "// let peppaLevel = 1, georgeLevel = 1;\n",
    "// Assign both levels to 5 in one line\n",
    "// Calculate combinedScore = peppaLevel * georgeLevel * 10;\n",
    "// Print all results\n",
    "\n",
    "\n",
    "// Assign both players' levels to 5 in a single line\n",
    "let peppaLevel = 1, georgeLevel = 1;\n",
    "peppaLevel = georgeLevel = 5;\n",
    "\n",
    "// Calculate combined score\n",
    "let combinedScore = peppaLevel * georgeLevel * 10;\n",
    "\n",
    "// Print results\n",
    "console.log(\"Peppa's Level:\", peppaLevel);\n",
    "console.log(\"George's Level:\", georgeLevel);\n",
    "console.log(\"Combined Score:\", combinedScore);\n"
   ]
  }
 ],
 "metadata": {
  "kernelspec": {
   "display_name": "Python 3",
   "language": "python",
   "name": "python3"
  },
  "language_info": {
   "codemirror_mode": {
    "name": "ipython",
    "version": 3
   },
   "file_extension": ".py",
   "mimetype": "text/x-python",
   "name": "python",
   "nbconvert_exporter": "python",
   "pygments_lexer": "ipython3",
   "version": "3.12.3"
  }
 },
 "nbformat": 4,
 "nbformat_minor": 5
}
